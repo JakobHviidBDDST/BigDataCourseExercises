{
 "cells": [
  {
   "cell_type": "code",
   "execution_count": null,
   "id": "ebaf1f56",
   "metadata": {},
   "outputs": [],
   "source": [
    "# !pip install redis"
   ]
  },
  {
   "cell_type": "code",
   "execution_count": null,
   "id": "d7b1dec9",
   "metadata": {},
   "outputs": [],
   "source": [
    "import redis\n",
    "\n",
    "redisCli = redis.Redis(host=\"localhost\", port=6379, db=0)\n",
    "assert redisCli.ping(), \"Cannot connect to Redis\""
   ]
  },
  {
   "cell_type": "code",
   "execution_count": null,
   "id": "681793b4",
   "metadata": {},
   "outputs": [],
   "source": [
    "redisCli.keys(\"*\")"
   ]
  },
  {
   "cell_type": "code",
   "execution_count": null,
   "id": "cbcf55e5",
   "metadata": {},
   "outputs": [],
   "source": [
    "import json\n",
    "\n",
    "while True:\n",
    "    x_1 = json.loads(redisCli.get(b\"1\").decode(\"utf-8\"))\n",
    "    x_2 = json.loads(redisCli.get(b\"2\").decode(\"utf-8\"))\n",
    "    x = str([json.loads(x_1['payload'])[\"sensor_id\"], json.loads(x_1['payload'])[\"modality\"], json.loads(x_2['payload'])[\"sensor_id\"], json.loads(x_2['payload'])[\"modality\"]])\n",
    "    print(x, end=\"\\r\")"
   ]
  },
  {
   "cell_type": "code",
   "execution_count": null,
   "id": "cd6f7c0e",
   "metadata": {},
   "outputs": [],
   "source": []
  }
 ],
 "metadata": {
  "kernelspec": {
   "display_name": "3.12.5",
   "language": "python",
   "name": "python3"
  },
  "language_info": {
   "codemirror_mode": {
    "name": "ipython",
    "version": 3
   },
   "file_extension": ".py",
   "mimetype": "text/x-python",
   "name": "python",
   "nbconvert_exporter": "python",
   "pygments_lexer": "ipython3",
   "version": "3.12.5"
  }
 },
 "nbformat": 4,
 "nbformat_minor": 5
}
